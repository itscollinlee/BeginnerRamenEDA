{
 "cells": [
  {
   "cell_type": "code",
   "execution_count": 1,
   "metadata": {},
   "outputs": [],
   "source": [
    "#Import files and packages\n",
    "import os\n",
    "import pandas as pd\n",
    "import matplotlib.pyplot as plt\n",
    "import numpy as np"
   ]
  },
  {
   "cell_type": "code",
   "execution_count": 2,
   "metadata": {},
   "outputs": [
    {
     "data": {
      "text/plain": [
       "'C:\\\\Users\\\\colli\\\\OneDrive\\\\Desktop\\\\Kaggle\\\\Ramen'"
      ]
     },
     "execution_count": 2,
     "metadata": {},
     "output_type": "execute_result"
    }
   ],
   "source": [
    "#check working directory\n",
    "os.getcwd()\n",
    "os.chdir('C:\\\\Users\\\\colli\\\\OneDrive\\\\Desktop\\\\Kaggle\\\\Ramen')\n",
    "os.getcwd()"
   ]
  },
  {
   "cell_type": "code",
   "execution_count": 3,
   "metadata": {},
   "outputs": [],
   "source": [
    "#Load Data \n",
    "ramen_data=pd.read_csv(\"ramen-ratings.csv\")"
   ]
  },
  {
   "cell_type": "code",
   "execution_count": 4,
   "metadata": {},
   "outputs": [
    {
     "data": {
      "text/html": [
       "<div>\n",
       "<style scoped>\n",
       "    .dataframe tbody tr th:only-of-type {\n",
       "        vertical-align: middle;\n",
       "    }\n",
       "\n",
       "    .dataframe tbody tr th {\n",
       "        vertical-align: top;\n",
       "    }\n",
       "\n",
       "    .dataframe thead th {\n",
       "        text-align: right;\n",
       "    }\n",
       "</style>\n",
       "<table border=\"1\" class=\"dataframe\">\n",
       "  <thead>\n",
       "    <tr style=\"text-align: right;\">\n",
       "      <th></th>\n",
       "      <th>Review #</th>\n",
       "      <th>Brand</th>\n",
       "      <th>Variety</th>\n",
       "      <th>Style</th>\n",
       "      <th>Country</th>\n",
       "      <th>Stars</th>\n",
       "      <th>Top Ten</th>\n",
       "    </tr>\n",
       "  </thead>\n",
       "  <tbody>\n",
       "    <tr>\n",
       "      <th>count</th>\n",
       "      <td>2580.000000</td>\n",
       "      <td>2580</td>\n",
       "      <td>2580</td>\n",
       "      <td>2578</td>\n",
       "      <td>2580</td>\n",
       "      <td>2580</td>\n",
       "      <td>41</td>\n",
       "    </tr>\n",
       "    <tr>\n",
       "      <th>unique</th>\n",
       "      <td>NaN</td>\n",
       "      <td>355</td>\n",
       "      <td>2413</td>\n",
       "      <td>7</td>\n",
       "      <td>38</td>\n",
       "      <td>51</td>\n",
       "      <td>38</td>\n",
       "    </tr>\n",
       "    <tr>\n",
       "      <th>top</th>\n",
       "      <td>NaN</td>\n",
       "      <td>Nissin</td>\n",
       "      <td>Beef</td>\n",
       "      <td>Pack</td>\n",
       "      <td>Japan</td>\n",
       "      <td>4</td>\n",
       "      <td>\\n</td>\n",
       "    </tr>\n",
       "    <tr>\n",
       "      <th>freq</th>\n",
       "      <td>NaN</td>\n",
       "      <td>381</td>\n",
       "      <td>7</td>\n",
       "      <td>1531</td>\n",
       "      <td>352</td>\n",
       "      <td>384</td>\n",
       "      <td>4</td>\n",
       "    </tr>\n",
       "    <tr>\n",
       "      <th>mean</th>\n",
       "      <td>1290.500000</td>\n",
       "      <td>NaN</td>\n",
       "      <td>NaN</td>\n",
       "      <td>NaN</td>\n",
       "      <td>NaN</td>\n",
       "      <td>NaN</td>\n",
       "      <td>NaN</td>\n",
       "    </tr>\n",
       "    <tr>\n",
       "      <th>std</th>\n",
       "      <td>744.926171</td>\n",
       "      <td>NaN</td>\n",
       "      <td>NaN</td>\n",
       "      <td>NaN</td>\n",
       "      <td>NaN</td>\n",
       "      <td>NaN</td>\n",
       "      <td>NaN</td>\n",
       "    </tr>\n",
       "    <tr>\n",
       "      <th>min</th>\n",
       "      <td>1.000000</td>\n",
       "      <td>NaN</td>\n",
       "      <td>NaN</td>\n",
       "      <td>NaN</td>\n",
       "      <td>NaN</td>\n",
       "      <td>NaN</td>\n",
       "      <td>NaN</td>\n",
       "    </tr>\n",
       "    <tr>\n",
       "      <th>25%</th>\n",
       "      <td>645.750000</td>\n",
       "      <td>NaN</td>\n",
       "      <td>NaN</td>\n",
       "      <td>NaN</td>\n",
       "      <td>NaN</td>\n",
       "      <td>NaN</td>\n",
       "      <td>NaN</td>\n",
       "    </tr>\n",
       "    <tr>\n",
       "      <th>50%</th>\n",
       "      <td>1290.500000</td>\n",
       "      <td>NaN</td>\n",
       "      <td>NaN</td>\n",
       "      <td>NaN</td>\n",
       "      <td>NaN</td>\n",
       "      <td>NaN</td>\n",
       "      <td>NaN</td>\n",
       "    </tr>\n",
       "    <tr>\n",
       "      <th>75%</th>\n",
       "      <td>1935.250000</td>\n",
       "      <td>NaN</td>\n",
       "      <td>NaN</td>\n",
       "      <td>NaN</td>\n",
       "      <td>NaN</td>\n",
       "      <td>NaN</td>\n",
       "      <td>NaN</td>\n",
       "    </tr>\n",
       "    <tr>\n",
       "      <th>max</th>\n",
       "      <td>2580.000000</td>\n",
       "      <td>NaN</td>\n",
       "      <td>NaN</td>\n",
       "      <td>NaN</td>\n",
       "      <td>NaN</td>\n",
       "      <td>NaN</td>\n",
       "      <td>NaN</td>\n",
       "    </tr>\n",
       "  </tbody>\n",
       "</table>\n",
       "</div>"
      ],
      "text/plain": [
       "           Review #   Brand Variety Style Country Stars Top Ten\n",
       "count   2580.000000    2580    2580  2578    2580  2580      41\n",
       "unique          NaN     355    2413     7      38    51      38\n",
       "top             NaN  Nissin    Beef  Pack   Japan     4      \\n\n",
       "freq            NaN     381       7  1531     352   384       4\n",
       "mean    1290.500000     NaN     NaN   NaN     NaN   NaN     NaN\n",
       "std      744.926171     NaN     NaN   NaN     NaN   NaN     NaN\n",
       "min        1.000000     NaN     NaN   NaN     NaN   NaN     NaN\n",
       "25%      645.750000     NaN     NaN   NaN     NaN   NaN     NaN\n",
       "50%     1290.500000     NaN     NaN   NaN     NaN   NaN     NaN\n",
       "75%     1935.250000     NaN     NaN   NaN     NaN   NaN     NaN\n",
       "max     2580.000000     NaN     NaN   NaN     NaN   NaN     NaN"
      ]
     },
     "execution_count": 4,
     "metadata": {},
     "output_type": "execute_result"
    }
   ],
   "source": [
    "#Data exploration\n",
    "ramen_data.describe(include='all')"
   ]
  },
  {
   "cell_type": "code",
   "execution_count": 5,
   "metadata": {},
   "outputs": [
    {
     "name": "stdout",
     "output_type": "stream",
     "text": [
      "<class 'pandas.core.frame.DataFrame'>\n",
      "RangeIndex: 2580 entries, 0 to 2579\n",
      "Data columns (total 7 columns):\n",
      " #   Column    Non-Null Count  Dtype \n",
      "---  ------    --------------  ----- \n",
      " 0   Review #  2580 non-null   int64 \n",
      " 1   Brand     2580 non-null   object\n",
      " 2   Variety   2580 non-null   object\n",
      " 3   Style     2578 non-null   object\n",
      " 4   Country   2580 non-null   object\n",
      " 5   Stars     2580 non-null   object\n",
      " 6   Top Ten   41 non-null     object\n",
      "dtypes: int64(1), object(6)\n",
      "memory usage: 141.2+ KB\n"
     ]
    }
   ],
   "source": [
    "#Noticed that style has 2 missing values\n",
    "ramen_data.info()"
   ]
  },
  {
   "cell_type": "code",
   "execution_count": 6,
   "metadata": {},
   "outputs": [
    {
     "data": {
      "text/html": [
       "<div>\n",
       "<style scoped>\n",
       "    .dataframe tbody tr th:only-of-type {\n",
       "        vertical-align: middle;\n",
       "    }\n",
       "\n",
       "    .dataframe tbody tr th {\n",
       "        vertical-align: top;\n",
       "    }\n",
       "\n",
       "    .dataframe thead th {\n",
       "        text-align: right;\n",
       "    }\n",
       "</style>\n",
       "<table border=\"1\" class=\"dataframe\">\n",
       "  <thead>\n",
       "    <tr style=\"text-align: right;\">\n",
       "      <th></th>\n",
       "      <th>Review #</th>\n",
       "      <th>Brand</th>\n",
       "      <th>Variety</th>\n",
       "      <th>Style</th>\n",
       "      <th>Country</th>\n",
       "      <th>Stars</th>\n",
       "      <th>Top Ten</th>\n",
       "    </tr>\n",
       "  </thead>\n",
       "  <tbody>\n",
       "    <tr>\n",
       "      <th>0</th>\n",
       "      <td>2580</td>\n",
       "      <td>New Touch</td>\n",
       "      <td>T's Restaurant Tantanmen</td>\n",
       "      <td>Cup</td>\n",
       "      <td>Japan</td>\n",
       "      <td>3.75</td>\n",
       "      <td>NaN</td>\n",
       "    </tr>\n",
       "    <tr>\n",
       "      <th>1</th>\n",
       "      <td>2579</td>\n",
       "      <td>Just Way</td>\n",
       "      <td>Noodles Spicy Hot Sesame Spicy Hot Sesame Guan...</td>\n",
       "      <td>Pack</td>\n",
       "      <td>Taiwan</td>\n",
       "      <td>1</td>\n",
       "      <td>NaN</td>\n",
       "    </tr>\n",
       "    <tr>\n",
       "      <th>2</th>\n",
       "      <td>2578</td>\n",
       "      <td>Nissin</td>\n",
       "      <td>Cup Noodles Chicken Vegetable</td>\n",
       "      <td>Cup</td>\n",
       "      <td>USA</td>\n",
       "      <td>2.25</td>\n",
       "      <td>NaN</td>\n",
       "    </tr>\n",
       "    <tr>\n",
       "      <th>3</th>\n",
       "      <td>2577</td>\n",
       "      <td>Wei Lih</td>\n",
       "      <td>GGE Ramen Snack Tomato Flavor</td>\n",
       "      <td>Pack</td>\n",
       "      <td>Taiwan</td>\n",
       "      <td>2.75</td>\n",
       "      <td>NaN</td>\n",
       "    </tr>\n",
       "    <tr>\n",
       "      <th>4</th>\n",
       "      <td>2576</td>\n",
       "      <td>Ching's Secret</td>\n",
       "      <td>Singapore Curry</td>\n",
       "      <td>Pack</td>\n",
       "      <td>India</td>\n",
       "      <td>3.75</td>\n",
       "      <td>NaN</td>\n",
       "    </tr>\n",
       "  </tbody>\n",
       "</table>\n",
       "</div>"
      ],
      "text/plain": [
       "   Review #           Brand  \\\n",
       "0      2580       New Touch   \n",
       "1      2579        Just Way   \n",
       "2      2578          Nissin   \n",
       "3      2577         Wei Lih   \n",
       "4      2576  Ching's Secret   \n",
       "\n",
       "                                             Variety Style Country Stars  \\\n",
       "0                          T's Restaurant Tantanmen    Cup   Japan  3.75   \n",
       "1  Noodles Spicy Hot Sesame Spicy Hot Sesame Guan...  Pack  Taiwan     1   \n",
       "2                      Cup Noodles Chicken Vegetable   Cup     USA  2.25   \n",
       "3                      GGE Ramen Snack Tomato Flavor  Pack  Taiwan  2.75   \n",
       "4                                    Singapore Curry  Pack   India  3.75   \n",
       "\n",
       "  Top Ten  \n",
       "0     NaN  \n",
       "1     NaN  \n",
       "2     NaN  \n",
       "3     NaN  \n",
       "4     NaN  "
      ]
     },
     "execution_count": 6,
     "metadata": {},
     "output_type": "execute_result"
    }
   ],
   "source": [
    "#Previewing the data\n",
    "ramen_data.head()"
   ]
  },
  {
   "cell_type": "code",
   "execution_count": 7,
   "metadata": {},
   "outputs": [],
   "source": [
    "#Replaced the missing Ramen Styles with None\n",
    "ramen_data['Style']=ramen_data['Style'].fillna('None')"
   ]
  },
  {
   "cell_type": "code",
   "execution_count": 8,
   "metadata": {},
   "outputs": [
    {
     "data": {
      "text/html": [
       "<div>\n",
       "<style scoped>\n",
       "    .dataframe tbody tr th:only-of-type {\n",
       "        vertical-align: middle;\n",
       "    }\n",
       "\n",
       "    .dataframe tbody tr th {\n",
       "        vertical-align: top;\n",
       "    }\n",
       "\n",
       "    .dataframe thead th {\n",
       "        text-align: right;\n",
       "    }\n",
       "</style>\n",
       "<table border=\"1\" class=\"dataframe\">\n",
       "  <thead>\n",
       "    <tr style=\"text-align: right;\">\n",
       "      <th></th>\n",
       "      <th>Review #</th>\n",
       "      <th>Brand</th>\n",
       "      <th>Variety</th>\n",
       "      <th>Style</th>\n",
       "      <th>Country</th>\n",
       "      <th>Stars</th>\n",
       "      <th>Top Ten</th>\n",
       "    </tr>\n",
       "  </thead>\n",
       "  <tbody>\n",
       "    <tr>\n",
       "      <th>229</th>\n",
       "      <td>2351</td>\n",
       "      <td>1 To 3 Noodles</td>\n",
       "      <td>Chatpat Masala</td>\n",
       "      <td>Pack</td>\n",
       "      <td>India</td>\n",
       "      <td>4</td>\n",
       "      <td>NaN</td>\n",
       "    </tr>\n",
       "    <tr>\n",
       "      <th>456</th>\n",
       "      <td>2124</td>\n",
       "      <td>7 Select</td>\n",
       "      <td>Nissin Instant Noodles Tom Yum Seafood Creamy ...</td>\n",
       "      <td>Bowl</td>\n",
       "      <td>Thailand</td>\n",
       "      <td>3.5</td>\n",
       "      <td>NaN</td>\n",
       "    </tr>\n",
       "    <tr>\n",
       "      <th>463</th>\n",
       "      <td>2117</td>\n",
       "      <td>7 Select</td>\n",
       "      <td>Nissin Instant Noodles Shrimp Ma Nao Lui Suan ...</td>\n",
       "      <td>Bowl</td>\n",
       "      <td>Thailand</td>\n",
       "      <td>4</td>\n",
       "      <td>NaN</td>\n",
       "    </tr>\n",
       "    <tr>\n",
       "      <th>877</th>\n",
       "      <td>1703</td>\n",
       "      <td>7 Select/Nissin</td>\n",
       "      <td>Super Tom Yum Shrimp</td>\n",
       "      <td>Cup</td>\n",
       "      <td>Thailand</td>\n",
       "      <td>3.5</td>\n",
       "      <td>NaN</td>\n",
       "    </tr>\n",
       "    <tr>\n",
       "      <th>911</th>\n",
       "      <td>1669</td>\n",
       "      <td>A-One</td>\n",
       "      <td>Mi Ly Instant Noodles Mi Chay Vegetarian Flavor</td>\n",
       "      <td>Cup</td>\n",
       "      <td>Vietnam</td>\n",
       "      <td>1.25</td>\n",
       "      <td>NaN</td>\n",
       "    </tr>\n",
       "    <tr>\n",
       "      <th>...</th>\n",
       "      <td>...</td>\n",
       "      <td>...</td>\n",
       "      <td>...</td>\n",
       "      <td>...</td>\n",
       "      <td>...</td>\n",
       "      <td>...</td>\n",
       "      <td>...</td>\n",
       "    </tr>\n",
       "    <tr>\n",
       "      <th>823</th>\n",
       "      <td>1757</td>\n",
       "      <td>iMee</td>\n",
       "      <td>Instant Noodles Beef Flavour</td>\n",
       "      <td>Pack</td>\n",
       "      <td>Netherlands</td>\n",
       "      <td>3.25</td>\n",
       "      <td>NaN</td>\n",
       "    </tr>\n",
       "    <tr>\n",
       "      <th>662</th>\n",
       "      <td>1918</td>\n",
       "      <td>iMee</td>\n",
       "      <td>Instant Noodles chicken Flavour</td>\n",
       "      <td>Pack</td>\n",
       "      <td>Netherlands</td>\n",
       "      <td>3.5</td>\n",
       "      <td>NaN</td>\n",
       "    </tr>\n",
       "    <tr>\n",
       "      <th>797</th>\n",
       "      <td>1783</td>\n",
       "      <td>iMee</td>\n",
       "      <td>Instant Noodles Creamy Tom Yum Shrimp Flavour</td>\n",
       "      <td>Pack</td>\n",
       "      <td>Netherlands</td>\n",
       "      <td>4.5</td>\n",
       "      <td>NaN</td>\n",
       "    </tr>\n",
       "    <tr>\n",
       "      <th>2135</th>\n",
       "      <td>445</td>\n",
       "      <td>iNoodle</td>\n",
       "      <td>Taiwan Style Chow Mein</td>\n",
       "      <td>Pack</td>\n",
       "      <td>Taiwan</td>\n",
       "      <td>2.25</td>\n",
       "      <td>NaN</td>\n",
       "    </tr>\n",
       "    <tr>\n",
       "      <th>2162</th>\n",
       "      <td>418</td>\n",
       "      <td>iNoodle</td>\n",
       "      <td>Udon Noodle Soup Oriental</td>\n",
       "      <td>Pack</td>\n",
       "      <td>Taiwan</td>\n",
       "      <td>3.75</td>\n",
       "      <td>NaN</td>\n",
       "    </tr>\n",
       "  </tbody>\n",
       "</table>\n",
       "<p>2580 rows × 7 columns</p>\n",
       "</div>"
      ],
      "text/plain": [
       "      Review #            Brand  \\\n",
       "229       2351   1 To 3 Noodles   \n",
       "456       2124         7 Select   \n",
       "463       2117         7 Select   \n",
       "877       1703  7 Select/Nissin   \n",
       "911       1669            A-One   \n",
       "...        ...              ...   \n",
       "823       1757             iMee   \n",
       "662       1918             iMee   \n",
       "797       1783             iMee   \n",
       "2135       445          iNoodle   \n",
       "2162       418          iNoodle   \n",
       "\n",
       "                                                Variety Style      Country  \\\n",
       "229                                      Chatpat Masala  Pack        India   \n",
       "456   Nissin Instant Noodles Tom Yum Seafood Creamy ...  Bowl     Thailand   \n",
       "463   Nissin Instant Noodles Shrimp Ma Nao Lui Suan ...  Bowl     Thailand   \n",
       "877                                Super Tom Yum Shrimp   Cup     Thailand   \n",
       "911     Mi Ly Instant Noodles Mi Chay Vegetarian Flavor   Cup      Vietnam   \n",
       "...                                                 ...   ...          ...   \n",
       "823                        Instant Noodles Beef Flavour  Pack  Netherlands   \n",
       "662                     Instant Noodles chicken Flavour  Pack  Netherlands   \n",
       "797       Instant Noodles Creamy Tom Yum Shrimp Flavour  Pack  Netherlands   \n",
       "2135                             Taiwan Style Chow Mein  Pack       Taiwan   \n",
       "2162                          Udon Noodle Soup Oriental  Pack       Taiwan   \n",
       "\n",
       "     Stars Top Ten  \n",
       "229      4     NaN  \n",
       "456    3.5     NaN  \n",
       "463      4     NaN  \n",
       "877    3.5     NaN  \n",
       "911   1.25     NaN  \n",
       "...    ...     ...  \n",
       "823   3.25     NaN  \n",
       "662    3.5     NaN  \n",
       "797    4.5     NaN  \n",
       "2135  2.25     NaN  \n",
       "2162  3.75     NaN  \n",
       "\n",
       "[2580 rows x 7 columns]"
      ]
     },
     "execution_count": 8,
     "metadata": {},
     "output_type": "execute_result"
    }
   ],
   "source": [
    "#Reordered dataframe by Brands into a descending order\n",
    "ramen_data.sort_values(by='Brand', ascending=True)"
   ]
  },
  {
   "cell_type": "code",
   "execution_count": 9,
   "metadata": {},
   "outputs": [
    {
     "name": "stdout",
     "output_type": "stream",
     "text": [
      "['1 To 3 Noodles', '7 Select', '7 Select/Nissin', 'A-One', 'A-Sha Dry Noodle', 'A1', 'ABC', 'Acecook', 'Adabi', 'Ah Lai', 'Ajinatori', 'Amianda', 'Amino', \"Annie Chun's\", 'Aroi', 'Asia Gold', 'Asian Thai Foods', 'Authentically Asian', 'Azami', 'Baijia', 'Baixiang Noodles', 'Baltix', 'Bamee', 'Batchelors', 'Binh Tay', 'Bon Go Jang', 'Bonasia', 'Boss', 'CJ CheilJedang', \"Campbell's\", 'Cap Atoom Bulan', 'CarJEN', \"Chaudhary's Wai Wai\", 'Chencun', 'Chering Chang', 'Chewy', 'Chikara', 'China Best', \"Ching's Secret\", 'Chorip Dong', 'ChoripDong', 'Choumama', 'Chuan Wei Wang', 'Cintan', 'Conimex', 'Crystal Noodle', 'Curry Prince', 'Daddy', 'Daifuku', 'Daikoku', 'Daraz', 'Deshome', 'Doll', 'Dongwon', \"Dr. McDougall's\", 'Dragonfly', 'Dream Kitchen', 'E-Zee', 'E-mi', 'Eat & Go', 'Econsave', 'Emart', 'FMF', 'Fantastic', \"Farmer's Heart\", 'Fashion Food', 'Fashion Foods', 'Foodmon', 'Forest Noodles', 'Fortune', 'Four Seas', 'Fu Chang Chinese Noodle Company', 'Fuji Mengyo', 'Fujiwara', 'Fuku', 'GGE', 'GS25', 'GaGa', 'Gau Do', 'Gefen', 'Global Inspiration', 'Goku Uma', 'Goku-Uma', 'Golden Mie', 'Golden Wheat', 'Golden Wonder', 'Gomex', 'Good Tto Leu Foods', 'Great Value', 'GreeNoodle', 'Guava Story', 'Haioreum', \"Han's South Korea\", 'Hankow', 'Hao Way', 'Happy Cook', 'Happy Family', 'Healtimie', 'Hi-Myon', 'Higashi', 'Higashimaru', 'HoMyeonDang', 'Hosoonyi', 'Hsin Tung Yang', 'Hua Feng', 'Hua Feng Noodle Expert', 'ICA', 'IbuRamen', 'Ibumie', 'Ikeda Shoku', 'Indomie', 'Ishimaru', 'Itomen', 'Itsuki', 'J.J.', 'JFC', 'JML', 'Jackpot Teriyaki', 'Jingqi', 'Just Way', 'KOKA', 'Kabuto Noodles', 'Kailo', 'Kamfen', 'Kang Shi Fu', 'Katoz', 'Kiki Noodle', 'Kim Ve Wong', \"Kim's Bowl\", 'Kimura', 'Kin-Dee', 'Knorr', 'Ko-Lee', 'Koh Thai', 'Koka', 'Komforte Chockolates', 'Koyo', 'Kumamoto', 'Kuriki', 'La Fonte', 'La Moderna', 'Lee Fah Mee', 'Lele', 'Liang Cheng Mai', 'Lipton', 'Lishan', 'Lishan Food Manufacturing', 'Little Cook', 'Liu Quan', 'Long Jun Hang', 'Long Kow', 'Lotus Foods', 'Love Cook', 'Lucky Me!', 'MAMA', 'Maggi', 'Maitri', 'Mama', \"Mama Pat's\", 'Mamee', 'Maruchan', 'Marutai', 'Master Kong', 'Mee Jang', 'Men-Sunaoshi', 'Menraku', 'Mexi-Ramen', 'Mi E-Zee', 'Mi Sedaap', 'Mie Sedaap', 'Migawon', 'Miliket', 'Miracle Noodle', 'Mitoku', \"Mom's Dry Noodle\", 'Morre', \"Mr. Lee's Noodles\", 'Mr. Noodles', 'Mr. Udon', 'Mug Shot', 'Mum Ngon', 'MyKuali', 'MyOri', 'Myojo', 'Nagao Noodle', 'Nagatanien', 'Nakaya Shouten', 'Nan Hsing', 'Nan Jie Cun', 'Nanyang Chef', 'New Touch', 'New Way', 'Nissin', 'No Name', 'Noah Foods', 'Nongshim', 'Noodle Time', 'Nyor Nyar', 'O Sung', 'ORee Garden', 'Ogasawara', 'Ohsung', 'Omachi', 'One Dish Asia', 'Oni Hot Pot', 'Osaka Ramen', 'Ottogi', 'Oyatsu', 'Paldo', 'Paldo Vina', 'Pama', 'Pamana', 'Papa', 'Patanjali', 'Payless', 'Peyang', 'Pirkka', 'Plats Du Chef', 'Pop Bihun', 'Pot Noodle', 'Pran', 'Premiere', 'President', 'President Rice', 'Prima', 'Prima Taste', 'Pringles', 'Pulmuone', 'Q', 'Qin Zong', 'Quickchow', 'Rhee Bros Assi', 'Right Foods', \"Ripe'n'Dry\", 'Rocket Brand', 'Roland', 'Royal Umbrella', 'Ruski', 'S&S', 'Sahmyook', 'Saigon Ve Wong', \"Sainsbury's\", 'Saji', 'Sakura Noodle', 'Sakurai', 'Sakurai Foods', 'Salam Mie', 'Samurai Ramen', 'Samyang', 'Samyang Foods', 'Sanpo', 'Sanrio', 'Sanyo Foods', 'Sao Tao', 'Sapporo Ichiban', 'Sarimi', 'Sau Tao', 'Sawadee', 'Sempio', 'Seven & I', 'Seven-Eleven', 'Shan', 'Shirakiku', 'Sichuan Baijia', 'Sichuan Guangyou', 'Singa-Me', 'Six Fortune', 'Smack', 'Snapdragon', 'Sokensha', 'Song Hak', 'Souper', 'Springlife', 'Star Anise Foods', 'Sugakiya Foods', 'Suimin', 'Sun Noodle', 'Sunlee', 'Sunlight', 'Sunny Maid', 'Super', 'Super Bihun', 'SuperMi', 'Sura', 'Sutah', 'TRDP', 'TTL', 'Tablemark', 'Takamori', 'Takamori Kosan', 'Tao Kae Noi', 'Tasty Bite', 'Tayho', 'Ten-In', 'Teriyaki Time', 'Tesco', 'Thai Chef', 'Thai Choice', 'Thai Kitchen', 'Thai Pavilion', 'Thai Smile', 'The Bridge', 'The Kitchen Food', 'The Ramen Rater Select', 'Thien Houng Foods', 'Tiger', 'Tiger Tiger', 'Tokachimen Koubou', 'Tokushima Seifun', 'Tokyo Noodle', 'Torishi', 'Tradition', 'Trident', 'Tropicana Slim', 'Tseng Noodles', 'Tung-I', 'US Canning', 'Uncle Sun', 'Uni-President', 'Unif', 'Unif / Tung-I', 'Unif Tung-I', 'Unif-100', 'United', 'Unox', 'Unzen', 'Urban Noodle', 'Ve Wong', 'Vedan', 'Vifon', 'Vina Acecook', \"Vit's\", 'Wai Wai', 'Wang', 'Weh Lih', 'Wei Chuan', 'Wei Lih', 'Wei Wei', 'Westbrae', 'Western Family', \"World O' Noodle\", 'Wu Mu', 'Wu-Mu', 'Wugudaochang', 'Xiao Ban Mian', 'Xiuhe', 'Yamachan', 'Yamadai', 'Yamamori', 'Yamamoto', 'Yum Yum', 'Yum-Mie', 'Zow Zow', 'iMee', 'iNoodle']\n"
     ]
    }
   ],
   "source": [
    "#Noticed that some Brands were not spelled in the same manner. \n",
    "#ex.) Goku Uma -> Goku Uma\n",
    "ramen_data_brand=ramen_data['Brand'].unique()\n",
    "print(sorted((ramen_data_brand)))"
   ]
  },
  {
   "cell_type": "code",
   "execution_count": 10,
   "metadata": {},
   "outputs": [],
   "source": [
    "#Fixed the naming of brands\n",
    "ramen_data.loc[ramen_data['Brand'] == 'Goku-Uma', 'Brand'] ='Goku Uma'\n",
    "ramen_data.loc[ramen_data['Brand'] == 'Lishan', 'Brand'] ='Lishan Food Manufacturing'\n",
    "ramen_data.loc[ramen_data['Brand'] == 'MAMA', 'Brand'] ='Mama'\n",
    "ramen_data.loc[ramen_data['Brand'] == 'Prima', 'Brand'] ='Prima Taste'\n",
    "ramen_data.loc[ramen_data['Brand'] == 'Sakurai', 'Brand'] ='Sakurai Foods'\n",
    "ramen_data.loc[ramen_data['Brand'] == 'Samyang', 'Brand'] ='Samyang Foods'\n",
    "ramen_data.loc[ramen_data['Brand'] == 'Unif Tung-I', 'Brand'] ='Unif / Tung-I'\n",
    "ramen_data.loc[ramen_data['Brand'] == 'Wu-Mu', 'Brand'] ='Wu Mu'"
   ]
  },
  {
   "cell_type": "code",
   "execution_count": 11,
   "metadata": {},
   "outputs": [
    {
     "data": {
      "text/plain": [
       "array(['3.75', '1', '2.25', '2.75', '4.75', '4', '0.25', '2.5', '5',\n",
       "       '4.25', '4.5', '3.5', 'Unrated', '1.5', '3.25', '2', '0', '3',\n",
       "       '0.5', '4.00', '5.0', '3.50', '3.8', '4.3', '2.3', '5.00', '3.3',\n",
       "       '4.0', '3.00', '1.75', '3.0', '4.50', '0.75', '1.25', '1.1', '2.1',\n",
       "       '0.9', '3.1', '4.125', '3.125', '2.125', '2.9', '0.1', '2.8',\n",
       "       '3.7', '3.4', '3.6', '2.85', '3.2', '3.65', '1.8'], dtype=object)"
      ]
     },
     "execution_count": 11,
     "metadata": {},
     "output_type": "execute_result"
    }
   ],
   "source": [
    "#Noticed that there were Unrated Ramens, gave them a rating of 0\n",
    "ramen_data['Stars'].unique()\n"
   ]
  },
  {
   "cell_type": "code",
   "execution_count": 12,
   "metadata": {},
   "outputs": [
    {
     "data": {
      "text/plain": [
       "array([nan, '2016 #10', '2016 #1', '2016 #8', '2016 #5', '2016 #9',\n",
       "       '2016 #7', '2015 #10', '2015 #7', '2015 #4', '2015 #9', '2015 #6',\n",
       "       '2015 #1', '2013 #10', '2015 #8', '2014 #7', '2014 #4', '2014 #9',\n",
       "       '2014 #10', '2014 #8', '2014 #5', '2014 #6', '2014 #1', '2013 #1',\n",
       "       '2013 #2', '2013 #4', '\\n', '2013 #9', '2013 #3', '2012 #10',\n",
       "       '2012 #7', '2012 #5', '2012 #3', '2012 #6', '2012 #9', '2012 #1',\n",
       "       '2012 #2', '2013 #6', '2012 #4'], dtype=object)"
      ]
     },
     "execution_count": 12,
     "metadata": {},
     "output_type": "execute_result"
    }
   ],
   "source": [
    "#Investigated the Top Ten Column\n",
    "\n",
    "ramen_data_copy=ramen_data\n",
    "ramen_data_copy['Top Ten'].unique()\n"
   ]
  },
  {
   "cell_type": "code",
   "execution_count": 13,
   "metadata": {},
   "outputs": [
    {
     "data": {
      "text/plain": [
       "0.0    2539\n",
       "1.0      41\n",
       "Name: Top_Ten, dtype: int64"
      ]
     },
     "execution_count": 13,
     "metadata": {},
     "output_type": "execute_result"
    }
   ],
   "source": [
    "#Identified the values within the Top Ten Column, most of the rated ramen were not classified as a Top Ten\n",
    "#created a new column to indicate which ones qualified in the Top Tens.\n",
    "ramen_data.loc[(ramen_data['Top Ten'].notna()), 'Top_Ten'] = 1\n",
    "ramen_data.loc[(ramen_data['Top Ten'].isna()), 'Top_Ten'] = 0\n",
    "ramen_data_copy['Top_Ten'].value_counts()"
   ]
  },
  {
   "cell_type": "code",
   "execution_count": 14,
   "metadata": {},
   "outputs": [
    {
     "data": {
      "text/plain": [
       "count    2580.000000\n",
       "mean        3.650426\n",
       "std         1.022358\n",
       "min         0.000000\n",
       "25%         3.250000\n",
       "50%         3.750000\n",
       "75%         4.250000\n",
       "max         5.000000\n",
       "Name: Stars, dtype: float64"
      ]
     },
     "execution_count": 14,
     "metadata": {},
     "output_type": "execute_result"
    }
   ],
   "source": [
    "#Converted the 'Stars' column to numeric\n",
    "ramen_data.loc[ramen_data['Stars'] == 'Unrated', 'Stars'] = '0'\n",
    "ramen_data['Stars'] = pd.to_numeric(ramen_data['Stars'])\n",
    "ramen_data['Stars'].describe()"
   ]
  },
  {
   "cell_type": "code",
   "execution_count": 15,
   "metadata": {},
   "outputs": [
    {
     "data": {
      "text/plain": [
       "(3.5, 4.0]    0.293610\n",
       "(3.0, 3.5]    0.200314\n",
       "(4.5, 5.0]    0.176401\n",
       "(4.0, 4.5]    0.111329\n",
       "(2.5, 3.0]    0.104273\n",
       "(1.5, 2.0]    0.037632\n",
       "(2.0, 2.5]    0.036064\n",
       "(1.0, 1.5]    0.019208\n",
       "(0.5, 1.0]    0.010976\n",
       "(0.0, 0.5]    0.010192\n",
       "Name: Stars, dtype: float64"
      ]
     },
     "execution_count": 15,
     "metadata": {},
     "output_type": "execute_result"
    }
   ],
   "source": [
    "#Found out the distribution of total ramen ratings in each bin.\n",
    "#appears that 29.36% are rated between 3.5~4.\n",
    "#appears that 20% are rated between 3.0~3.5.\n",
    "#appears that 17.64% are rated between 4.5~5.\n",
    "#If we assume that all ramen within the 2.5~3.0 star rating are okay, that would mean at 67% of the rated ramen are\n",
    "#above average.\n",
    "count_of_stars= pd.cut(ramen_data['Stars'],bins=[0,0.5,1,1.5,2,2.5,3,3.5,4,4.5,5])\n",
    "count_of_stars.value_counts(normalize=True)"
   ]
  },
  {
   "cell_type": "code",
   "execution_count": 16,
   "metadata": {},
   "outputs": [
    {
     "data": {
      "image/png": "[encoded data removed]",
      "text/plain": [
       "<Figure size 432x288 with 1 Axes>"
      ]
     },
     "metadata": {
      "needs_background": "light"
     },
     "output_type": "display_data"
    }
   ],
   "source": [
    "#See the distribution of the Ramen Ratings.\n",
    "\n",
    "plt.grid(False)\n",
    "plt.style.use('tableau-colorblind10')\n",
    "plt.hist(ramen_data['Stars'],bins=[0,0.5,1,1.5,2,2.5,3,3.5,4,4.5,5,5.5], color='limegreen', edgecolor='black')\n",
    "plt.xlabel('Ramen Ratings')\n",
    "plt.ylabel('Total Count')\n",
    "plt.title('Distribution of Ramen Ratings')\n",
    "plt.show()"
   ]
  },
  {
   "cell_type": "code",
   "execution_count": 17,
   "metadata": {},
   "outputs": [
    {
     "data": {
      "image/png": "[encoded data removed]",
      "text/plain": [
       "<Figure size 1080x360 with 1 Axes>"
      ]
     },
     "metadata": {
      "needs_background": "light"
     },
     "output_type": "display_data"
    }
   ],
   "source": [
    "#Wanted to see which brands are the top 10 producers of ramen. Nissin is the biggest producer of ramen, \n",
    "#followed by Mama & Nongshim\n",
    "ramen_brand_counts=ramen_data['Brand'].value_counts().head(10)\n",
    "labels = ['Nissin','Mama','Nongshim','Maruchan','Samyang Foods','Paldo','Myojo','Indomie','Ottogi','Lucky Me!']\n",
    "\n",
    "\n",
    "plt.figure(figsize=(15,5))\n",
    "plt.bar(labels,ramen_brand_counts,color='limegreen',edgecolor='black')\n",
    "plt.grid(False)\n",
    "plt.xlabel('Brand')\n",
    "plt.ylabel('Total Products')\n",
    "plt.title('Total Ramen Products By Brand')\n",
    "\n",
    "plt.show()\n",
    "\n"
   ]
  },
  {
   "cell_type": "code",
   "execution_count": 18,
   "metadata": {},
   "outputs": [
    {
     "data": {
      "image/png": "[encoded data removed]",
      "text/plain": [
       "<Figure size 1080x360 with 1 Axes>"
      ]
     },
     "metadata": {
      "needs_background": "light"
     },
     "output_type": "display_data"
    }
   ],
   "source": [
    "#Wanted to the average rating for the top 10 Ramen producers.\n",
    "#The top 8 ramen producing companies have an average ramen rating of 3.5+.\n",
    "#Also Nissin, does not have the highest average ramen rating, despite being the top producer.\n",
    "labels = ['Nissin','Mama','Nongshim','Maruchan','Samyang Foods','Paldo','Myojo','Indomie','Ottogi','Lucky Me!']\n",
    "\n",
    "Nissin = ramen_data.loc[ramen_data.Brand == 'Nissin']['Stars'].mean()\n",
    "Mama = ramen_data.loc[ramen_data.Brand == 'Mama']['Stars'].mean()\n",
    "Nongshim = ramen_data.loc[ramen_data.Brand == 'Nongshim']['Stars'].mean()\n",
    "Maruchan = ramen_data.loc[ramen_data.Brand == 'Maruchan']['Stars'].mean()\n",
    "Samyang_Foods = ramen_data.loc[ramen_data.Brand == 'Samyang Foods']['Stars'].mean()\n",
    "Paldo = ramen_data.loc[ramen_data.Brand == 'Paldo']['Stars'].mean()\n",
    "Myojo = ramen_data.loc[ramen_data.Brand == 'Myojo']['Stars'].mean()\n",
    "Indomie = ramen_data.loc[ramen_data.Brand == 'Indomie']['Stars'].mean()\n",
    "Ottogi = ramen_data.loc[ramen_data.Brand == 'Ottogi']['Stars'].mean()\n",
    "Lucky_Me = ramen_data.loc[ramen_data.Brand == 'Lucky Me!']['Stars'].mean()\n",
    "\n",
    "plt.figure(figsize=(15,5))\n",
    "\n",
    "plt.xlabel('Brands')\n",
    "plt.ylabel('Average Ramen Rating')\n",
    "plt.title('Average Ramen Ratings for the Top 10 Ramen Producing Brand')\n",
    "plt.bar(labels,[Nissin,Mama,Nongshim,Maruchan,Samyang_Foods,Paldo,Myojo,Indomie,Ottogi,Lucky_Me],color='limegreen',\n",
    "       edgecolor='black')\n",
    "plt.grid(False)\n",
    "plt.show()"
   ]
  },
  {
   "cell_type": "code",
   "execution_count": 19,
   "metadata": {},
   "outputs": [
    {
     "data": {
      "image/png": "[encoded data removed]",
      "text/plain": [
       "<Figure size 1440x720 with 1 Axes>"
      ]
     },
     "metadata": {
      "needs_background": "light"
     },
     "output_type": "display_data"
    }
   ],
   "source": [
    "#created a new dataframe that consists of only ramen that made it on top ten lists\n",
    "# Made a barchart to see which Brands had the most products that made it on the top ten lists\n",
    "# The top three in a descending order: Prima Taste, Indomie and then Mama.\n",
    "# One thing to take into consideration is that each Brand may produce ramen from different countries,\n",
    "#this chart does not account for this fact.\n",
    "ramen_data_only_tt=ramen_data[(ramen_data['Top_Ten']==1)]\n",
    "ramen_data_only_tt['Brand'].unique()\n",
    "labels =['Prima Taste', 'Indomie', 'Mama', 'Nongshim','Paldo','MyKuali','Sapporo Ichiban','Myojo','Mamee',\n",
    "         'Wugudaochang','Doll','Nissin','Samyang Foods','CarJEN','A-Sha Dry Noodle','Tseng Noodles', 'Maruchan',\n",
    "         'Mi Sedaap', 'Koka']\n",
    "ramen_data_only_tt_counts=ramen_data_only_tt['Brand'].value_counts(sort=True)\n",
    "\n",
    "\n",
    "plt.figure(figsize=(20,10))\n",
    "plt.ylabel('Count of Ramen in the Top Ten Lists')\n",
    "plt.xlabel('Brand')\n",
    "plt.title('Brands and Ramen Products in the Top Ten Lists')\n",
    "plt.xticks(rotation=90)\n",
    "plt.bar(labels,ramen_data_only_tt_counts, color='limegreen',edgecolor='black')\n",
    "plt.grid(False)\n",
    "plt.show()\n"
   ]
  },
  {
   "cell_type": "code",
   "execution_count": 20,
   "metadata": {},
   "outputs": [
    {
     "data": {
      "image/png": "[encoded data removed]",
      "text/plain": [
       "<Figure size 288x432 with 1 Axes>"
      ]
     },
     "metadata": {
      "needs_background": "light"
     },
     "output_type": "display_data"
    }
   ],
   "source": [
    "#Find average rating of these 3 Brands that are renowned for top ten ramen.\n",
    "#Surprisingly Prima Taste has the maximum rating of 5 for the average rating of its ramen.\n",
    "#Indomie has an average rating of 4, while Mama has 3.7.\n",
    "#Based on this information, I assume that Prima Taste is seeking to produce higher quality ramen instead of rushing\n",
    "#out the total quantity of ramen products.\n",
    "Prima_Taste=ramen_data.loc[ramen_data.Brand == 'Prima Taste']['Stars'].mean()\n",
    "Indomie=ramen_data.loc[ramen_data.Brand == 'Indomie']['Stars'].mean()\n",
    "Mama=ramen_data.loc[ramen_data.Brand == 'Mama']['Stars'].mean()\n",
    "\n",
    "\n",
    "labels =['Prima Taste','Indonmie','Mama']\n",
    "\n",
    "plt.figure(figsize=(4,6))\n",
    "plt.bar(labels,[Prima_Taste,Indomie,Mama], color='limegreen',edgecolor='black')\n",
    "plt.grid(False)\n",
    "plt.xlabel('Brand')\n",
    "plt.ylabel('Average Rating of Ramen')\n",
    "plt.title('Top Ten Ramen Producers and Average Rating of Ramen')\n",
    "\n",
    "\n",
    "plt.show()"
   ]
  },
  {
   "cell_type": "code",
   "execution_count": 21,
   "metadata": {},
   "outputs": [
    {
     "data": {
      "text/plain": [
       "5.0    11\n",
       "Name: Stars, dtype: int64"
      ]
     },
     "execution_count": 21,
     "metadata": {},
     "output_type": "execute_result"
    }
   ],
   "source": [
    "ramen_data.loc[ramen_data.Brand == 'Prima Taste']['Stars'].value_counts()"
   ]
  },
  {
   "cell_type": "code",
   "execution_count": 22,
   "metadata": {},
   "outputs": [
    {
     "data": {
      "image/png": "[encoded data removed]",
      "text/plain": [
       "<Figure size 720x720 with 1 Axes>"
      ]
     },
     "metadata": {},
     "output_type": "display_data"
    }
   ],
   "source": [
    "#Did a pie chart to see where which countries produced top ten ramens.\n",
    "#Shows each country's count of top ten ramen and percentage that it contributes to the total.\n",
    "#Surprising Singapore and South Korea are tied at first place with 7 top ten rated ramens.\n",
    "#Japan, Malaysia, and Indonesia are tied for second place\n",
    "\n",
    "#Count of top ten ramen created in each country\n",
    "Myanmar=ramen_data_only_tt.loc[ramen_data_only_tt['Country']=='Myanmar'].count()[0]\n",
    "Singapore=ramen_data_only_tt.loc[ramen_data_only_tt['Country']=='Singapore'].count()[0]\n",
    "Taiwan=ramen_data_only_tt.loc[ramen_data_only_tt['Country']=='Taiwan'].count()[0]\n",
    "China=ramen_data_only_tt.loc[ramen_data_only_tt['Country']=='China'].count()[0]\n",
    "USA=ramen_data_only_tt.loc[ramen_data_only_tt['Country']=='USA'].count()[0]\n",
    "Malaysia=ramen_data_only_tt.loc[ramen_data_only_tt['Country']=='Malaysia'].count()[0]\n",
    "Japan=ramen_data_only_tt.loc[ramen_data_only_tt['Country']=='Japan'].count()[0]\n",
    "Thailand=ramen_data_only_tt.loc[ramen_data_only_tt['Country']=='Thailand'].count()[0]\n",
    "South_Korea=ramen_data_only_tt.loc[ramen_data_only_tt['Country']=='South Korea'].count()[0]\n",
    "Indonesia=ramen_data_only_tt.loc[ramen_data_only_tt['Country']=='Indonesia'].count()[0]\n",
    "Hong_Kong=ramen_data_only_tt.loc[ramen_data_only_tt['Country']=='Hong Kong'].count()[0]\n",
    "\n",
    "values = [Myanmar,Singapore,Taiwan,China,USA,Malaysia,Japan,Thailand,South_Korea,Indonesia,Hong_Kong]\n",
    "labels = ['Myanmar','USA','Singapore','Taiwan','Malaysia','China','Japan','Thailand','South Korea',\n",
    "          'Hong Kong','Indonesia']\n",
    "explode = (0.2,0,0.1,0.4,0.6,0,0,0,0,0,0.4)\n",
    "\n",
    "def new_autopct(values):\n",
    "    def percentage_autopct(pct):\n",
    "        total = sum(values)\n",
    "        val = int(round(pct*total/100.0))\n",
    "        return '{p:.2f}%  ({v:d})'.format(p=pct,v=val)\n",
    "    return percentage_autopct\n",
    "\n",
    "colours = ['magenta','tab:orange','tab:green','tab:red','tab:purple','tab:cyan','tab:olive','gold','tomato',\n",
    "         'aqua','lawngreen']\n",
    "\n",
    "plt.figure(figsize=(10,10))\n",
    "plt.pie([Myanmar,USA,Singapore,Taiwan,Malaysia,China,Japan,Thailand,South_Korea,Hong_Kong,Indonesia],labels=labels,\n",
    "        autopct=new_autopct(values), pctdistance=0.75,colors=colours)\n",
    "plt.title('Countries That Have Produced Top Ten Ramen')\n",
    "plt.show()\n"
   ]
  },
  {
   "cell_type": "code",
   "execution_count": 23,
   "metadata": {},
   "outputs": [
    {
     "data": {
      "text/plain": [
       "Pack    0.593411\n",
       "Bowl    0.186434\n",
       "Cup     0.174419\n",
       "Tray    0.041860\n",
       "Box     0.002326\n",
       "None    0.000775\n",
       "Can     0.000388\n",
       "Bar     0.000388\n",
       "Name: Style, dtype: float64"
      ]
     },
     "execution_count": 23,
     "metadata": {},
     "output_type": "execute_result"
    }
   ],
   "source": [
    "#I wanted to see which styles of ramen are produced the most.\n",
    "#Pack is the most popular, followed by Bowl and Cup.\n",
    "ramen_data['Style'].value_counts(normalize=True)"
   ]
  },
  {
   "cell_type": "code",
   "execution_count": 24,
   "metadata": {},
   "outputs": [
    {
     "data": {
      "image/png": "[encoded data removed]",
      "text/plain": [
       "<Figure size 720x360 with 1 Axes>"
      ]
     },
     "metadata": {
      "needs_background": "light"
     },
     "output_type": "display_data"
    }
   ],
   "source": [
    "#Decided to see if different styles of ramen affected the star rating.\n",
    "# Pack, Bowl, Cup are the most produced styles and there doesn't appear to be much influence on the rating.\n",
    "# Pack probably has more outliers than the other 2 styles because it is the most produced style.\n",
    "ramen_data['Style'].unique()\n",
    "\n",
    "plt.figure(figsize=(10,5))\n",
    "labels =['Cup','Pack','Tray','Bowl','Box','Can','Bar','None']\n",
    "\n",
    "Cup = ramen_data.loc[ramen_data.Style == 'Cup']['Stars']\n",
    "Pack = ramen_data.loc[ramen_data.Style == 'Pack']['Stars']\n",
    "Tray = ramen_data.loc[ramen_data.Style == 'Tray']['Stars']\n",
    "Bowl = ramen_data.loc[ramen_data.Style == 'Bowl']['Stars']\n",
    "Box = ramen_data.loc[ramen_data.Style == 'Box']['Stars']\n",
    "Can = ramen_data.loc[ramen_data.Style == 'Can']['Stars']\n",
    "Bar = ramen_data.loc[ramen_data.Style == 'Bar']['Stars']\n",
    "NaN = ramen_data.loc[ramen_data.Style == 'None']['Stars']\n",
    "\n",
    "outliers = dict(markerfacecolor='r',marker='o')\n",
    "plt.title('Comparison of Ramen Production Styles and Ramen Ratings')\n",
    "plt.ylabel('Style')\n",
    "plt.xlabel('Ramen Rating')\n",
    "\n",
    "\n",
    "plt.boxplot([Cup,Pack,Tray,Bowl,Box,Can,Bar,NaN], labels=labels, vert=False, flierprops=outliers)\n",
    "plt.grid(False)\n",
    "plt.show()"
   ]
  },
  {
   "cell_type": "code",
   "execution_count": 25,
   "metadata": {},
   "outputs": [],
   "source": [
    "#Created new columns to practice Machine Learning Binary Classification\n",
    "\n",
    "#Binary \n",
    "#If a ramen has a rating of 3.5 or higher it gets a value of 1 else it is 0.\n",
    "\n",
    "ramen_data['Buy/Pass'] = [1 if x >= 3.5 else 0 for x in ramen_data['Stars']]\n",
    "ramen_data=ramen_data.drop(['Top Ten', 'Top_Ten'], axis=1)"
   ]
  },
  {
   "cell_type": "code",
   "execution_count": 26,
   "metadata": {},
   "outputs": [
    {
     "data": {
      "text/html": [
       "<div>\n",
       "<style scoped>\n",
       "    .dataframe tbody tr th:only-of-type {\n",
       "        vertical-align: middle;\n",
       "    }\n",
       "\n",
       "    .dataframe tbody tr th {\n",
       "        vertical-align: top;\n",
       "    }\n",
       "\n",
       "    .dataframe thead th {\n",
       "        text-align: right;\n",
       "    }\n",
       "</style>\n",
       "<table border=\"1\" class=\"dataframe\">\n",
       "  <thead>\n",
       "    <tr style=\"text-align: right;\">\n",
       "      <th></th>\n",
       "      <th>Review #</th>\n",
       "      <th>Brand</th>\n",
       "      <th>Variety</th>\n",
       "      <th>Style</th>\n",
       "      <th>Country</th>\n",
       "      <th>Stars</th>\n",
       "      <th>Buy/Pass</th>\n",
       "    </tr>\n",
       "  </thead>\n",
       "  <tbody>\n",
       "    <tr>\n",
       "      <th>0</th>\n",
       "      <td>2580</td>\n",
       "      <td>New Touch</td>\n",
       "      <td>T's Restaurant Tantanmen</td>\n",
       "      <td>Cup</td>\n",
       "      <td>Japan</td>\n",
       "      <td>3.75</td>\n",
       "      <td>1</td>\n",
       "    </tr>\n",
       "    <tr>\n",
       "      <th>1</th>\n",
       "      <td>2579</td>\n",
       "      <td>Just Way</td>\n",
       "      <td>Noodles Spicy Hot Sesame Spicy Hot Sesame Guan...</td>\n",
       "      <td>Pack</td>\n",
       "      <td>Taiwan</td>\n",
       "      <td>1.00</td>\n",
       "      <td>0</td>\n",
       "    </tr>\n",
       "    <tr>\n",
       "      <th>2</th>\n",
       "      <td>2578</td>\n",
       "      <td>Nissin</td>\n",
       "      <td>Cup Noodles Chicken Vegetable</td>\n",
       "      <td>Cup</td>\n",
       "      <td>USA</td>\n",
       "      <td>2.25</td>\n",
       "      <td>0</td>\n",
       "    </tr>\n",
       "    <tr>\n",
       "      <th>3</th>\n",
       "      <td>2577</td>\n",
       "      <td>Wei Lih</td>\n",
       "      <td>GGE Ramen Snack Tomato Flavor</td>\n",
       "      <td>Pack</td>\n",
       "      <td>Taiwan</td>\n",
       "      <td>2.75</td>\n",
       "      <td>0</td>\n",
       "    </tr>\n",
       "    <tr>\n",
       "      <th>4</th>\n",
       "      <td>2576</td>\n",
       "      <td>Ching's Secret</td>\n",
       "      <td>Singapore Curry</td>\n",
       "      <td>Pack</td>\n",
       "      <td>India</td>\n",
       "      <td>3.75</td>\n",
       "      <td>1</td>\n",
       "    </tr>\n",
       "  </tbody>\n",
       "</table>\n",
       "</div>"
      ],
      "text/plain": [
       "   Review #           Brand  \\\n",
       "0      2580       New Touch   \n",
       "1      2579        Just Way   \n",
       "2      2578          Nissin   \n",
       "3      2577         Wei Lih   \n",
       "4      2576  Ching's Secret   \n",
       "\n",
       "                                             Variety Style Country  Stars  \\\n",
       "0                          T's Restaurant Tantanmen    Cup   Japan   3.75   \n",
       "1  Noodles Spicy Hot Sesame Spicy Hot Sesame Guan...  Pack  Taiwan   1.00   \n",
       "2                      Cup Noodles Chicken Vegetable   Cup     USA   2.25   \n",
       "3                      GGE Ramen Snack Tomato Flavor  Pack  Taiwan   2.75   \n",
       "4                                    Singapore Curry  Pack   India   3.75   \n",
       "\n",
       "   Buy/Pass  \n",
       "0         1  \n",
       "1         0  \n",
       "2         0  \n",
       "3         0  \n",
       "4         1  "
      ]
     },
     "execution_count": 26,
     "metadata": {},
     "output_type": "execute_result"
    }
   ],
   "source": [
    "ramen_data.head()\n"
   ]
  },
  {
   "cell_type": "code",
   "execution_count": 27,
   "metadata": {},
   "outputs": [],
   "source": [
    "from sklearn import preprocessing\n",
    "data_binary = ramen_data.apply(preprocessing.LabelEncoder().fit_transform)"
   ]
  },
  {
   "cell_type": "code",
   "execution_count": 28,
   "metadata": {},
   "outputs": [],
   "source": [
    "Xb = data_binary.drop(['Review #','Buy/Pass'], axis=1)\n",
    "yb = data_binary['Buy/Pass']\n",
    "\n",
    "#Split the data for training and testing\n",
    "\n",
    "from sklearn.model_selection import train_test_split\n",
    "Xb_train,Xb_test,yb_train,yb_test = train_test_split(Xb,yb, test_size=0.2, random_state=42)\n"
   ]
  },
  {
   "cell_type": "markdown",
   "metadata": {},
   "source": [
    "# Logistic Regression Binary Classification"
   ]
  },
  {
   "cell_type": "code",
   "execution_count": 29,
   "metadata": {},
   "outputs": [],
   "source": [
    "#Import logistic regression model and scale the data\n",
    "\n",
    "\n",
    "from sklearn.linear_model import LogisticRegression\n",
    "from sklearn.preprocessing import scale\n",
    "logreg = LogisticRegression(random_state =42)\n",
    "\n",
    "#Fitting the scaled data into logistic regression model\n",
    "Xb = scale(Xb)\n",
    "Xb_train, Xb_test, yb_train, yb_test = train_test_split(Xb, yb, test_size=0.2, random_state=42)\n",
    "logreg.fit(Xb_train,yb_train)\n",
    "\n",
    "yb_logreg_pred =logreg.predict(Xb_test)\n"
   ]
  },
  {
   "cell_type": "code",
   "execution_count": 30,
   "metadata": {},
   "outputs": [
    {
     "data": {
      "text/plain": [
       "array([[141,   1],\n",
       "       [  0, 374]], dtype=int64)"
      ]
     },
     "execution_count": 30,
     "metadata": {},
     "output_type": "execute_result"
    }
   ],
   "source": [
    "from sklearn.metrics import confusion_matrix\n",
    "confusion_matrix(yb_test,yb_logreg_pred)"
   ]
  },
  {
   "cell_type": "code",
   "execution_count": 31,
   "metadata": {},
   "outputs": [
    {
     "name": "stdout",
     "output_type": "stream",
     "text": [
      "              precision    recall  f1-score   support\n",
      "\n",
      "           0       1.00      0.99      1.00       142\n",
      "           1       1.00      1.00      1.00       374\n",
      "\n",
      "    accuracy                           1.00       516\n",
      "   macro avg       1.00      1.00      1.00       516\n",
      "weighted avg       1.00      1.00      1.00       516\n",
      "\n"
     ]
    }
   ],
   "source": [
    "from sklearn.metrics import classification_report\n",
    "\n",
    "print(classification_report(yb_test,yb_logreg_pred))"
   ]
  },
  {
   "cell_type": "markdown",
   "metadata": {},
   "source": [
    "# KNearestNeighbors Binary Classification"
   ]
  },
  {
   "cell_type": "code",
   "execution_count": 32,
   "metadata": {},
   "outputs": [
    {
     "data": {
      "text/plain": [
       "KNeighborsClassifier()"
      ]
     },
     "execution_count": 32,
     "metadata": {},
     "output_type": "execute_result"
    }
   ],
   "source": [
    "from sklearn.neighbors import KNeighborsClassifier\n",
    "knn = KNeighborsClassifier(n_neighbors=5)\n",
    "knn.fit(Xb_train,yb_train)"
   ]
  },
  {
   "cell_type": "code",
   "execution_count": 33,
   "metadata": {},
   "outputs": [],
   "source": [
    "yb_knn_pred = knn.predict(Xb_test)"
   ]
  },
  {
   "cell_type": "code",
   "execution_count": 34,
   "metadata": {},
   "outputs": [
    {
     "data": {
      "text/plain": [
       "array([[120,  22],\n",
       "       [  6, 368]], dtype=int64)"
      ]
     },
     "execution_count": 34,
     "metadata": {},
     "output_type": "execute_result"
    }
   ],
   "source": [
    "confusion_matrix(yb_test,yb_knn_pred)"
   ]
  },
  {
   "cell_type": "code",
   "execution_count": 35,
   "metadata": {},
   "outputs": [
    {
     "name": "stdout",
     "output_type": "stream",
     "text": [
      "              precision    recall  f1-score   support\n",
      "\n",
      "           0       0.95      0.85      0.90       142\n",
      "           1       0.94      0.98      0.96       374\n",
      "\n",
      "    accuracy                           0.95       516\n",
      "   macro avg       0.95      0.91      0.93       516\n",
      "weighted avg       0.95      0.95      0.94       516\n",
      "\n"
     ]
    }
   ],
   "source": [
    "print(classification_report(yb_test,yb_knn_pred))\n"
   ]
  },
  {
   "cell_type": "code",
   "execution_count": 36,
   "metadata": {},
   "outputs": [
    {
     "name": "stdout",
     "output_type": "stream",
     "text": [
      "[0.9503875968992249, 0.9426356589147288, 0.9507751937984497, 0.9496124031007751, 0.9515503875968992, 0.9546511627906977, 0.9550387596899226, 0.9581395348837208, 0.9531007751937984, 0.9562015503875969, 0.9534883720930232, 0.9565891472868217, 0.9565891472868217, 0.9589147286821706, 0.95, 0.9523255813953488, 0.9507751937984494, 0.9527131782945737, 0.9492248062015503, 0.95, 0.9453488372093023, 0.9507751937984498, 0.9434108527131784, 0.948062015503876, 0.9426356589147286, 0.9472868217054262, 0.9422480620155038, 0.9461240310077518, 0.944186046511628, 0.9453488372093023, 0.9410852713178295, 0.9437984496124031, 0.9399224806201552, 0.9414728682170544, 0.9375968992248062, 0.9406976744186046, 0.9356589147286822, 0.9403100775193799, 0.9356589147286822, 0.938372093023256, 0.9333333333333336, 0.936046511627907, 0.9325581395348838, 0.9364341085271317, 0.9302325581395348, 0.9325581395348838, 0.9267441860465115, 0.9313953488372093, 0.9263565891472869, 0.9282945736434108]\n"
     ]
    }
   ],
   "source": [
    "from sklearn.model_selection import cross_val_score\n",
    "\n",
    "#Find Max distance\n",
    "k_range = range(1,51)\n",
    "k_scores =[]\n",
    "#loop through reasonable values of k\n",
    "for k in k_range:\n",
    "    knn = KNeighborsClassifier(n_neighbors= k)\n",
    "    scores = cross_val_score(knn,Xb,yb,cv= 10,scoring='accuracy')\n",
    "    k_scores.append(scores.mean())\n",
    "print(k_scores)"
   ]
  },
  {
   "cell_type": "code",
   "execution_count": 37,
   "metadata": {},
   "outputs": [
    {
     "data": {
      "text/html": [
       "<div>\n",
       "<style scoped>\n",
       "    .dataframe tbody tr th:only-of-type {\n",
       "        vertical-align: middle;\n",
       "    }\n",
       "\n",
       "    .dataframe tbody tr th {\n",
       "        vertical-align: top;\n",
       "    }\n",
       "\n",
       "    .dataframe thead th {\n",
       "        text-align: right;\n",
       "    }\n",
       "</style>\n",
       "<table border=\"1\" class=\"dataframe\">\n",
       "  <thead>\n",
       "    <tr style=\"text-align: right;\">\n",
       "      <th></th>\n",
       "      <th>distance</th>\n",
       "    </tr>\n",
       "  </thead>\n",
       "  <tbody>\n",
       "    <tr>\n",
       "      <th>13</th>\n",
       "      <td>0.958915</td>\n",
       "    </tr>\n",
       "  </tbody>\n",
       "</table>\n",
       "</div>"
      ],
      "text/plain": [
       "    distance\n",
       "13  0.958915"
      ]
     },
     "execution_count": 37,
     "metadata": {},
     "output_type": "execute_result"
    }
   ],
   "source": [
    "k=pd.DataFrame(k_scores,columns= ['distance'])\n",
    "k[k['distance']== k['distance'].max()]"
   ]
  },
  {
   "cell_type": "code",
   "execution_count": 38,
   "metadata": {},
   "outputs": [
    {
     "data": {
      "image/png": "[encoded data removed]",
      "text/plain": [
       "<Figure size 432x288 with 1 Axes>"
      ]
     },
     "metadata": {
      "needs_background": "light"
     },
     "output_type": "display_data"
    }
   ],
   "source": [
    "plt.plot(k_range,k_scores)\n",
    "plt.title('K values vs Cross Validated Accuracy')\n",
    "plt.xlabel('K values for KNN')\n",
    "plt.ylabel('Cross validated Accuracy')\n",
    "plt.show()\n"
   ]
  },
  {
   "cell_type": "code",
   "execution_count": 39,
   "metadata": {},
   "outputs": [
    {
     "data": {
      "text/plain": [
       "KNeighborsClassifier(n_neighbors=12)"
      ]
     },
     "execution_count": 39,
     "metadata": {},
     "output_type": "execute_result"
    }
   ],
   "source": [
    "knn = KNeighborsClassifier(n_neighbors= 12)\n",
    "knn.fit(Xb_train,yb_train)"
   ]
  },
  {
   "cell_type": "code",
   "execution_count": 40,
   "metadata": {},
   "outputs": [],
   "source": [
    "yb_knn_pred = knn.predict(Xb_test)"
   ]
  },
  {
   "cell_type": "code",
   "execution_count": 41,
   "metadata": {},
   "outputs": [
    {
     "data": {
      "text/plain": [
       "array([[127,  15],\n",
       "       [  3, 371]], dtype=int64)"
      ]
     },
     "execution_count": 41,
     "metadata": {},
     "output_type": "execute_result"
    }
   ],
   "source": [
    "confusion_matrix(yb_test,yb_knn_pred)"
   ]
  },
  {
   "cell_type": "code",
   "execution_count": 42,
   "metadata": {},
   "outputs": [
    {
     "name": "stdout",
     "output_type": "stream",
     "text": [
      "              precision    recall  f1-score   support\n",
      "\n",
      "           0       0.98      0.89      0.93       142\n",
      "           1       0.96      0.99      0.98       374\n",
      "\n",
      "    accuracy                           0.97       516\n",
      "   macro avg       0.97      0.94      0.96       516\n",
      "weighted avg       0.97      0.97      0.96       516\n",
      "\n"
     ]
    }
   ],
   "source": [
    "print(classification_report(yb_test,yb_knn_pred))\n"
   ]
  },
  {
   "cell_type": "code",
   "execution_count": null,
   "metadata": {},
   "outputs": [],
   "source": []
  }
 ],
 "metadata": {
  "kernelspec": {
   "display_name": "Python 3",
   "language": "python",
   "name": "python3"
  },
  "language_info": {
   "codemirror_mode": {
    "name": "ipython",
    "version": 3
   },
   "file_extension": ".py",
   "mimetype": "text/x-python",
   "name": "python",
   "nbconvert_exporter": "python",
   "pygments_lexer": "ipython3",
   "version": "3.7.6"
  }
 },
 "nbformat": 4,
 "nbformat_minor": 4
}
